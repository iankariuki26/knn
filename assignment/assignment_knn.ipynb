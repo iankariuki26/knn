{
 "cells": [
  {
   "cell_type": "markdown",
   "id": "f7ef20f0-722f-4240-8a79-437d4a3b8832",
   "metadata": {},
   "source": [
    "## Assignment 3: $k$ Nearest Neighbor\n",
    "\n",
    "**Do two questions.**\n",
    "\n",
    "`! git clone https://github.com/ds4e/knn`"
   ]
  },
  {
   "cell_type": "markdown",
   "id": "5d9212c0",
   "metadata": {},
   "source": [
    "**Q0.**\n",
    "1. What is the difference between regression and classification?\n",
    "2. What is a confusion table? What does it help us understand about a model's performance?\n",
    "3. What does the SSE quantify about a particular model?\n",
    "4. What are overfitting and underfitting? \n",
    "5. Why does splitting the data into training and testing sets, and choosing $k$ by evaluating accuracy or SSE on the test set, improve model performance?\n",
    "6. With classification, we can report a class label as a prediction or a probability distribution over class labels. Please explain the strengths and weaknesses of each approach."
   ]
  },
  {
   "cell_type": "markdown",
   "id": "a0841a3f",
   "metadata": {},
   "source": [
    "MY ANSWERS\n",
    "\n",
    "## 1 -----\n",
    "  ###  Classification is when you are predicting a certain categorical outcome while regression is when your prediction is numeric\n",
    "  ###  K-means is an example of a model that utilizes classification, sepreating data into different clusters(categories), while a linear regression is a model that utilizes regression, making prediction using a best fit equation\n",
    "\n",
    "## 2 -----\n",
    "  ###  A confusion table is a cross-tabulation table of a models predicted values as well as it's actual values. It allows us to see how far or close \n",
    "  ###  the predicted values are to the actual values, providing us reference to see whether a model preforms well.\n",
    "\n",
    "## 3 -----\n",
    "  ###  Sum of squared error sums the distance each actual data point is from its predicted values squared, which gives us insight to how accurate model preforms\n",
    "  ###  by telling us the variance.\n",
    "\n",
    "\n",
    "## 4 -----\n",
    "### Overfitting is when your model is too conformed to your training data making it unrealistically precise for it to be useful for prediction on data outside of the model while underfitting happens when your model is too simple or abstracted to make any meaningful explanation of the data's trend. Both should be attempted to be as small as possible. \n",
    "\n",
    "## 5 -----\n",
    "  ###  Splitting the data into training and model sets allows for us to test the accuracy of our model by giving utilizing the \"uncertain\" part of the data and\n",
    "    using that to represent the real uncertainty of future predictions. We can see how well our model from the training data preforms with the testing data by calculating the sum of sqaured error to see how far they deviate from eachother, and compare those deviations from models where k is greater or smaller\n",
    "    in size of the neigbors we want to utilize. Which ever model returns the smallest sse is would be the the model with the best performance.\n",
    "\n",
    "\n",
    "6 -----\n",
    "  ##  Doing classification by predicting a single class label is easier for the user to interpret and ultilze but it doesn’t give insight to how confident the model actually is. When using predicting probabilities in classificationg, more information is given which is better for decisions, but it's weakness is that it is more difficult to interpret and it takes more computational power. Using probability predictions would be better for making important decisions, while using the single labels work well for simple tasks."
   ]
  },
  {
   "cell_type": "markdown",
   "id": "194455fa",
   "metadata": {},
   "source": [
    "**Q1.** This question is a case study for $k$ nearest neighbor regression, using the `USA_cars_datasets.csv` data.\n",
    "\n",
    "The target variable `y` is `price` and the features are `year` and `mileage`.\n",
    "\n",
    "1. Load the `./data/USA_cars_datasets.csv`. Keep the following variables and drop the rest: `price`, `year`, `mileage`. Are there any `NA`'s to handle? Look at the head and dimensions of the data.\n",
    "2. Maxmin normalize `year` and `mileage`.\n",
    "3. Split the sample into ~80% for training and ~20% for evaluation.\n",
    "4. Use the $k$NN algorithm and the training data to predict `price` using `year` and `mileage` for the test set for $k=3,10,25,50,100,300$. For each value of $k$, compute the mean squared error and print a scatterplot showing the test value plotted against the predicted value. What patterns do you notice as you increase $k$?\n",
    "5. Determine the optimal $k$ for these data.\n",
    "6. Describe what happened in the plots of predicted versus actual prices as $k$ varied, taking your answer into part 6 into account. (Hint: Use the words \"underfitting\" and \"overfitting\".)"
   ]
  },
  {
   "cell_type": "code",
   "execution_count": 47,
   "id": "cdd3360e",
   "metadata": {},
   "outputs": [
    {
     "name": "stdout",
     "output_type": "stream",
     "text": [
      "there are 0 values in the dataset under price, year, and model that are NA\n"
     ]
    },
    {
     "data": {
      "text/plain": [
       "(2499, 3)"
      ]
     },
     "execution_count": 47,
     "metadata": {},
     "output_type": "execute_result"
    }
   ],
   "source": [
    "import pandas as pd\n",
    "import numpy as np\n",
    "import matplotlib.pyplot as plt\n",
    "#1\n",
    "\n",
    "\n",
    "data = \"/Users/iankariuki/UVADS/Machine-Learning1/hw/knn/data/USA_cars_datasets.csv\"\n",
    "\n",
    "df = pd.read_csv(data)\n",
    "\n",
    "df = df.loc[:, [\"price\",\"year\",\"mileage\"]]\n",
    "df.head()\n",
    "\n",
    "print(\"there are\",df.isna().sum().sum(),\"values in the dataset under price, year, and model that are NA\")\n",
    "df.shape\n"
   ]
  },
  {
   "cell_type": "code",
   "execution_count": 48,
   "id": "2ca43338",
   "metadata": {},
   "outputs": [
    {
     "name": "stdout",
     "output_type": "stream",
     "text": [
      "Before minmax\n",
      "    year  mileage\n",
      "0  2008   274117\n",
      "1  2011   190552\n",
      "2  2018    39590\n",
      "3  2014    64146\n",
      "4  2018     6654\n",
      "              year       mileage\n",
      "count  2499.000000  2.499000e+03\n",
      "mean   2016.714286  5.229869e+04\n",
      "std       3.442656  5.970552e+04\n",
      "min    1973.000000  0.000000e+00\n",
      "25%    2016.000000  2.146650e+04\n",
      "50%    2018.000000  3.536500e+04\n",
      "75%    2019.000000  6.347250e+04\n",
      "max    2020.000000  1.017936e+06\n",
      "\n",
      "\n",
      "After minmax\n",
      "        year   mileage\n",
      "0  0.744681  0.269287\n",
      "1  0.808511  0.187194\n",
      "2  0.957447  0.038892\n",
      "3  0.872340  0.063016\n",
      "4  0.957447  0.006537\n",
      "              year      mileage\n",
      "count  2499.000000  2499.000000\n",
      "mean      0.930091     0.051377\n",
      "std       0.073248     0.058654\n",
      "min       0.000000     0.000000\n",
      "25%       0.914894     0.021088\n",
      "50%       0.957447     0.034742\n",
      "75%       0.978723     0.062354\n",
      "max       1.000000     1.000000\n"
     ]
    }
   ],
   "source": [
    "#2\n",
    "\n",
    "from sklearn.neighbors import KNeighborsRegressor \n",
    "\n",
    "y = df['price'] \n",
    "X = df.loc[:,['year','mileage']] \n",
    "print(\"Before minmax\\n\",X.head())\n",
    "print(X.describe())\n",
    "\n",
    "def maxmin(z):\n",
    "    z = (z-min(z))/(max(z)-min(z))\n",
    "    return(z)\n",
    "\n",
    "X = X.apply(maxmin)\n",
    "print(\"\\n\\nAfter minmax\\n\",X.head())\n",
    "print(X.describe())"
   ]
  },
  {
   "cell_type": "code",
   "execution_count": 49,
   "id": "4d8cb19c",
   "metadata": {},
   "outputs": [],
   "source": [
    "#3\n",
    "\n",
    "from sklearn.model_selection import train_test_split\n",
    "X_train, X_test, y_train, y_test = train_test_split(X,y,test_size=.2,random_state=65) \n",
    "                                                    "
   ]
  },
  {
   "cell_type": "code",
   "execution_count": 86,
   "id": "966ef9fe",
   "metadata": {},
   "outputs": [
    {
     "name": "stdout",
     "output_type": "stream",
     "text": [
      "50\n"
     ]
    }
   ],
   "source": [
    "#4 Use the $k$NN algorithm and the training data to predict `price` using `year` and `mileage` for the test set for $k=3,10,25,50,100,300$. For each value of $k$, compute the mean squared error and print a scatterplot showing the test value plotted against the predicted value. What patterns do you notice as you increase $k$?\n",
    "\n",
    "k_bar = [3,10,25,50,100,300]\n",
    "\n",
    "SSE = [] # We'll store the SSE here \n",
    "SSE_on_train = []\n",
    "for k in k_bar:\n",
    "    model = KNeighborsRegressor(n_neighbors=k+1) # Create a sk model for k\n",
    "    fitted_model = model.fit(X_train,y_train) # Train the model on our data\n",
    "    y_hat = fitted_model.predict(X_test) # Predict values for test set\n",
    "    SSE.append(np.sum( (y_test-y_hat)**2 )) # Save the computed SSE for test set\n",
    "    y_hat = fitted_model.predict(X_train) # Predict values for training set\n",
    "    SSE_on_train.append( np.sum( (y_train-y_hat)**2 ) ) # Save the computed SSE\n",
    "\n",
    "SSE_min = np.min(SSE) # Find lowest recorded SSE\n",
    "min_index = np.argmin(SSE)\n",
    "k_star = k_bar[min_index]\n",
    "print(k_star)\n"
   ]
  },
  {
   "cell_type": "code",
   "execution_count": 92,
   "id": "514a2b5a",
   "metadata": {},
   "outputs": [
    {
     "data": {
      "image/png": "[encoded data removed]",
      "text/plain": [
       "<Figure size 640x480 with 1 Axes>"
      ]
     },
     "metadata": {},
     "output_type": "display_data"
    }
   ],
   "source": [
    "plt.plot(k_bar, SSE_on_train, label='Train', marker = \"o\")  \n",
    "plt.plot(k_bar, SSE, label='Test', marker=\"o\")  \n",
    "plt.xlabel(\"k\")\n",
    "plt.ylabel(\"SSE\")\n",
    "plt.legend(loc='center right')\n",
    "plt.title(\"SSE vs. k in kNN Regression\")\n",
    "plt.show()"
   ]
  },
  {
   "cell_type": "code",
   "execution_count": 88,
   "id": "d223fd24",
   "metadata": {},
   "outputs": [
    {
     "name": "stdout",
     "output_type": "stream",
     "text": [
      "The optimal value of k that returns the smallest sse for the training set is 50\n"
     ]
    }
   ],
   "source": [
    "print(\"The optimal value of k that returns the smallest SSE for the training set is\", k_star)\n"
   ]
  },
  {
   "cell_type": "markdown",
   "id": "935da789",
   "metadata": {},
   "source": [
    "## 6. Describe what happened in the plots of predicted versus actual prices as $k$ varied, taking your answer into part 6 into account. (Hint: Use the words \"underfitting\" and \"overfitting\".)\n",
    "\n",
    "### Answer: - For smaller values of k, the plot showed that there was much larger variance in the error of the predicted values meaning that it is underfit while for the higher values of k, there was less variance from the training model, causing the prediction to be too closely fit to the training data which lead to the model performing worse on the testing data. The intermidiate values like 25,50 had a good balance of generalizing the training data allowing the testing data results to be more accurate."
   ]
  },
  {
   "cell_type": "markdown",
   "id": "287b8586",
   "metadata": {},
   "source": [
    "**Q2.** This is a case study on $k$ nearest neighbor classification, using the `animals.csv` data.\n",
    "\n",
    "The data consist of a label, `class`, taking integer values 1 to 7, the name of the species, `animal`, and 16 characteristics of the animal, including `hair`, `feathers`, `milk`, `eggs`, `airborne`, and so on. \n",
    "\n",
    "1. Load the data. For each of the seven class labels, print the values in the class and get a sense of what is included in that group. Perform some other EDA: How big are the classes? How much variation is there in each of the features/covariates? Which variables do you think will best predict which class?\n",
    "2. Split the data 50/50 into training and test/validation sets. (The smaller the data are, the more equal the split should be, in my experience: Otherwise, all of the members of one class end up in the training or test data, and the model falls apart.)\n",
    "3. Using all of the variables, build a $k$-NN classifier. Explain how you select $k$.\n",
    "4. Print a confusion table for the optimal model, comparing predicted and actual class label on the test set. How accurate it is? Can you interpret why mistakes are made across groups?\n",
    "5. Use only `milk`, `aquatic`, and `airborne` to train a new $k$-NN classifier. Print your confusion table. Mine does not predict all of the classes, only a subset of them. To see the underlying probabilities, use `model.predict_proba(X_test.values)` to predict probabilities rather than labels for your `X_test` test data for your fitted `model`. Are all of the classes represented? Explain your results."
   ]
  },
  {
   "cell_type": "markdown",
   "id": "c008c35c",
   "metadata": {},
   "source": [
    "**Q3.** This question is a case study for $k$ nearest neighbor regression, using the `cars_env.csv` data. \n",
    "\n",
    "The variables that go into the model are one more dimension to think about: We can use the train-test split approach to pick the variables that go into the model, not just the number of neighbors.\n",
    "\n",
    "1. Load the data. We're going to use `footprint`, `baseline mpg`, `baseline price`, and `baseline sales`. Prepare some EDA results for these variables: describe tables, histograms/kernel density plots, scatterplots, etc. I renamed these variables to `footprint`, `mpg`, `price`, and `sales` to save time.\n",
    "2. Maxmin normalize `footprint`, `mpg`, and `price`. These will be our features/covariates $X$. Our target/dependent/outcome variable $y$ will be sales. Does it make sense to normalize $y$?\n",
    "3. Make a 30% train-test split of the data into 30% test/validation data and 70% training data. \n",
    "4. Using all three covariates --- `footprint`, `mpg`, and `price` --- what's the best $k$ to use? What SSE is achieved on the test set? To answer these questions, evalute the sum of squared error on the test set for a reasonable range of values of $k$ (perhaps 2 to 150), and find the $k$ with the lowest SSE. \n",
    "5. Do part 4 again, for each pair of variables: `footprint` and `mpg`, `footprint` and `price`, `mpg` and `price`.\n",
    "6. Which set of variables from parts 4 and 5 does the best, in terms of minimizing SSE at the optimal choice of neighbors? Explain."
   ]
  },
  {
   "cell_type": "markdown",
   "id": "6a0ff5e3",
   "metadata": {},
   "source": [
    "**Q4.** This is a case study on $k$ nearest neighbor classification, using the `land_mines.csv` data.\n",
    "\n",
    "The data consists of a label, `mine_type`, taking integer values 1 to 5, and three properties of the mine, `voltage`, `height` and `soil`. We want to predict the kind of mine from data about it. Imagine working for the DOD or a humanitarian aid agency, trying to help people remove land mines more safely.\n",
    "\n",
    "1. Load the data. Perform some EDA, summarizing the target label and the features.\n",
    "2. Split the sample 50/50 into training and test/validation sets. (The smaller the data are, the more equal the split should be, in my experience: Otherwise, all of the members of one class end up in the training or test data, and the model falls apart.)\n",
    "3. Build a $k$-NN classifier. Explain how you select $k$.\n",
    "4. Print a confusion table for the optimal model, comparing predicted and actual class label on the test set. How accurate is it? Where is performance more or less accurate?\n",
    "5. Notice that you can have a lot of accurate predictions for a given type of mine, but still make a lot of mistakes. Please explain how you'd advise someone to actually use this predictive model in practice, given the errors that it tends to make."
   ]
  },
  {
   "cell_type": "markdown",
   "id": "010b57f7-bf4f-4494-b54c-49c4f3ae3ab9",
   "metadata": {},
   "source": [
    "**Q5.** This question is a case study for $k$ nearest neighbor regression, using the `heart_failure_clinical_records_dataset.csv` data.\n",
    "\n",
    "The data for the question include:\n",
    "\n",
    "- age: age of the patient (years)\n",
    "- anaemia: decrease of red blood cells or hemoglobin (boolean)\n",
    "- high blood pressure: if the patient has hypertension (boolean)\n",
    "- creatinine phosphokinase (CPK): level of the CPK enzyme in the blood (mcg/L)\n",
    "- diabetes: if the patient has diabetes (boolean)\n",
    "- ejection fraction: percentage of blood leaving the heart at each contraction (percentage)\n",
    "- platelets: platelets in the blood (kiloplatelets/mL)\n",
    "- sex: woman or man (binary)\n",
    "- serum creatinine: level of serum creatinine in the blood (mg/dL)\n",
    "- serum sodium: level of serum sodium in the blood (mEq/L)\n",
    "- smoking: if the patient smokes or not (boolean)\n",
    "- time: follow-up period (days)\n",
    "- death event: if the patient deceased during the follow-up period (boolean)\n",
    "\n",
    "1. Load the `./data/heart_failure_clinical_records_dataset.csv`. Are there any `NA`'s to handle? use `.drop()` to remove `time` from the dataframe.\n",
    "2. Make a correlation matrix. What variables are strongly associated with a death event?\n",
    "3. For the dummy variables `anaemia`, `diabetes`, `high_blood_pressure`, `sex`, and `smoking`, compute a summary table of `DEATH_EVENT` grouped by the variable. For which variables does a higher proportion of the population die when the variable takes the value 1 rather than 0?\n",
    "4. On the basis of your answers from 2 and 3, build a matrix $X$ of the variables you think are most predictive of a death, and a variable $y$ equal to `DEATH_EVENT`.\n",
    "5. Maxmin normalize all of the variables in `X`.\n",
    "6. Split the sample into ~80% for training and ~20% for evaluation. (Try to use the same train/test split for the whole question, so that you're comparing apples to apples in the questions below.).\n",
    "7. Determine the optimal number of neighbors for a $k$NN regression for the variables you selected.\n",
    "8. OK, do steps 5 through 7 again, but use all of the variables (except `time`). Which model has a lower Sum of Squared Error? Which would you prefer to use in practice, if you had to predict `DEATH_EVENT`s? If you play with the selection of variables, how much does the SSE change for your fitted model on the test data? Are more variables always better? Explain your findings."
   ]
  },
  {
   "cell_type": "markdown",
   "id": "8d193de6",
   "metadata": {
    "vscode": {
     "languageId": "plaintext"
    }
   },
   "source": [
    "**Q6.** This is a case study on $k$ nearest neighbor regression and imputation, using the `airbnb_hw.csv` data.\n",
    "\n",
    "There are 30,478 observations, but only 22,155 ratings. We're going to build a kNN regressor to impute missing values. This is a common task, and illustrates one way you can use kNN in the future even when you have more advanced models available.\n",
    "\n",
    "1. Load the `airbnb_hw.csv` data with Pandas. We're only going to use `Review Scores Rating`, `Price`, and `Beds`, so use `.loc` to reduce the dataframe to those variables.\n",
    "2. Set use `.isnull()` to select the subset of the dataframe with missing review values. Set those aside in a different dataframe. We'll make predictions about them later.\n",
    "3. Use `df = df.dropna(axis = 0, how = 'any')` to eliminate any observations with missing values/NA's from the dataframe.\n",
    "4. For the complete cases, create a $k$-NN model that uses the variables `Price` and `Beds` to predict `Review Scores Rating`. How do you choose $k$? (Hint: Train/test split, iterate over reasonable values of $k$ and find a value that minimizes SSE on the test split using predictions from the training set.)\n",
    "5. Predict the missing ratings. \n",
    "6. Do a kernel density plot of the training ratings and the predicted missing ratings. Do they look similar or not? Explain why."
   ]
  }
 ],
 "metadata": {
  "kernelspec": {
   "display_name": "Python 3",
   "language": "python",
   "name": "python3"
  },
  "language_info": {
   "codemirror_mode": {
    "name": "ipython",
    "version": 3
   },
   "file_extension": ".py",
   "mimetype": "text/x-python",
   "name": "python",
   "nbconvert_exporter": "python",
   "pygments_lexer": "ipython3",
   "version": "3.9.6"
  }
 },
 "nbformat": 4,
 "nbformat_minor": 5
}
